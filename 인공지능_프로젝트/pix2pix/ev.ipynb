{
 "cells": [
  {
   "cell_type": "code",
   "execution_count": 2,
   "id": "2e67d420",
   "metadata": {},
   "outputs": [
    {
     "name": "stderr",
     "output_type": "stream",
     "text": [
      "2022-07-05 00:27:11.473499: I tensorflow/stream_executor/platform/default/dso_loader.cc:49] Successfully opened dynamic library libcudart.so.11.0\n"
     ]
    }
   ],
   "source": [
    "from PIL import Image\n",
    "import os\n",
    "import glob\n",
    "import matplotlib.pyplot as plt\n",
    "import cv2\n",
    "import numpy as np\n",
    "import tensorflow as tf"
   ]
  },
  {
   "cell_type": "markdown",
   "id": "7eaa4f34",
   "metadata": {},
   "source": [
    "사진 자르기!"
   ]
  },
  {
   "cell_type": "code",
   "execution_count": 94,
   "id": "8c56d2a9",
   "metadata": {},
   "outputs": [],
   "source": [
    "from PIL import Image\n",
    "for i in range(1,91):\n",
    "\n",
    "    image1 = Image.open('./paired/{}.jpg'.format(i))\n",
    "    #이미지의 크기 출력\n",
    "    # 이미지 자르기 crop함수 이용 ex. crop(left,up, rigth, down)\n",
    "    croppedImage=image1.crop((256,0,512,256))\n",
    "    croppedImage.save('./paired-crop/{}.jpg'.format(i))\n",
    "    \n"
   ]
  },
  {
   "cell_type": "markdown",
   "id": "ab0b65bd",
   "metadata": {},
   "source": [
    "사진 어둡게!"
   ]
  },
  {
   "cell_type": "code",
   "execution_count": 2,
   "id": "ac22e4ca",
   "metadata": {},
   "outputs": [],
   "source": [
    "from PIL import Image, ImageEnhance\n",
    "\n",
    "# read the image\n",
    "im = Image.open('image.jpg')\n",
    "\n",
    "\n",
    "#image brightness enhancer\n",
    "enhancer = ImageEnhance.Brightness(im)\n",
    "\n",
    "factor = 0.3 #gives original image\n",
    "im_output = enhancer.enhance(factor)\n",
    "im_output.save('0.3-image.jpg')\n",
    "\n",
    "factor = 0.2 #darkens the image\n",
    "im_output = enhancer.enhance(factor)\n",
    "im_output.save('0.2-image.jpg')\n",
    "\n",
    "factor = 0.1 #brightens the image\n",
    "im_output = enhancer.enhance(factor)\n",
    "im_output.save('0.1-image.jpg')"
   ]
  },
  {
   "cell_type": "markdown",
   "id": "3bb5bb8a",
   "metadata": {},
   "source": [
    "붙여서 저장!"
   ]
  },
  {
   "cell_type": "code",
   "execution_count": 3,
   "id": "b433633d",
   "metadata": {},
   "outputs": [],
   "source": [
    "from PIL import Image, ImageEnhance\n",
    "\n",
    "#image brightness enhancer\n",
    "\n",
    "\n",
    "# read the image\n",
    "for i in range(1,91):\n",
    "    im = Image.open('./paired-crop/{}.jpg'.format(i))\n",
    "    \n",
    "\n",
    "    #image brightness enhancer\n",
    "    enhancer = ImageEnhance.Brightness(im)\n",
    "    \n",
    "#     factor = 1 #gives original image\n",
    "#     im_output = enhancer.enhance(factor)\n",
    "\n",
    "    factor = 0.3 #gives original image\n",
    "    im_output1 = enhancer.enhance(factor)\n",
    "\n",
    "    merged = np.hstack([im_output1,im])\n",
    "    plt.imsave('./real-paired/{}-0.3.jpg'.format(i), merged)\n",
    "    \n",
    "    #     merged.save('./real-paired/0.3-{}.jpg'.format(i))\n",
    "#     cv2.imsave('0.3-{}.jpg'.format(i), merged)\n",
    "    #cv2.imwrite('0.3-{}.jpg'.format(i), merged)\n",
    "    \n",
    "    factor = 0.2 #darkens the image\n",
    "    im_output2 = enhancer.enhance(factor)\n",
    "    merged2 = np.hstack([im_output2,im]) \n",
    "    plt.imsave('./real-paired/{}-0.2.jpg'.format(i), merged2)\n",
    "  \n",
    "\n",
    "    \n",
    "    factor = 0.1 #brightens the image\n",
    "    im_output3 = enhancer.enhance(factor)\n",
    "    merged3 = np.hstack([im_output3,im])\n",
    "    plt.imsave('./real-paired/{}-0.1.jpg'.format(i), merged3)\n",
    "\n"
   ]
  },
  {
   "cell_type": "code",
   "execution_count": null,
   "id": "3cb08991",
   "metadata": {},
   "outputs": [],
   "source": [
    "# merge 해보자\n",
    "\n",
    "# import cv2\n",
    "# import numpy as np \n",
    "# img = cv2.imread('image.png')  \n",
    "# blur4 = cv2.medianBlur(img, 5) \n",
    "# blur5 = cv2.bilateralFilter(img, 10, 75, 75) \n",
    "# merged = np.hstack((img, blur4, blur5+edge)) \n",
    "# cv2.imshow('blur', merged)\n",
    "# cv2.waitKey(0)\n",
    "# cv2.destroyAllWindows()\n",
    "\n",
    "\n",
    "import cv2\n",
    "import numpy as np \n",
    "img = cv2.imread('image.png')\n",
    "blur4 = cv2.medianBlur(img, 5) \n",
    "blur5 = cv2.bilateralFilter(img, 10, -10, -10) \n",
    "merged = np.hstack((img, blur4, blur5)) \n",
    "cv2.imwrite(f\"/home/piai/바탕화면/데이터/낮사진_밝기조정/{img_name}\", merged)\n"
   ]
  }
 ],
 "metadata": {
  "kernelspec": {
   "display_name": "Python 3 (ipykernel)",
   "language": "python",
   "name": "python3"
  },
  "language_info": {
   "codemirror_mode": {
    "name": "ipython",
    "version": 3
   },
   "file_extension": ".py",
   "mimetype": "text/x-python",
   "name": "python",
   "nbconvert_exporter": "python",
   "pygments_lexer": "ipython3",
   "version": "3.9.12"
  },
  "toc": {
   "base_numbering": 1,
   "nav_menu": {},
   "number_sections": true,
   "sideBar": true,
   "skip_h1_title": false,
   "title_cell": "Table of Contents",
   "title_sidebar": "Contents",
   "toc_cell": false,
   "toc_position": {},
   "toc_section_display": true,
   "toc_window_display": false
  }
 },
 "nbformat": 4,
 "nbformat_minor": 5
}
